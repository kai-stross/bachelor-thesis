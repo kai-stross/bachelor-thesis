{
 "cells": [
  {
   "cell_type": "markdown",
   "metadata": {},
   "source": [
    "# 4.2 Final Models: Cross-Browser Evaluation\n"
   ]
  },
  {
   "cell_type": "markdown",
   "metadata": {},
   "source": [
    "In this notebook we cross-browser evaluate the finalized GCN and GraphSAGE models:\n",
    "\n",
    "- GCN/GraphSAGE Model\n",
    "    - Cross Browser Validation"
   ]
  },
  {
   "cell_type": "markdown",
   "metadata": {},
   "source": [
    "### Dataset Configuration"
   ]
  },
  {
   "cell_type": "code",
   "execution_count": 1,
   "metadata": {},
   "outputs": [],
   "source": [
    "data_name = 'chrome-run-01'\n",
    "with_centrality_metrics = False"
   ]
  },
  {
   "cell_type": "markdown",
   "metadata": {},
   "source": [
    "### Set Up"
   ]
  },
  {
   "cell_type": "code",
   "execution_count": 2,
   "metadata": {},
   "outputs": [],
   "source": [
    "%load_ext autoreload\n",
    "%autoreload 2\n",
    "\n",
    "import warnings\n",
    "warnings.simplefilter(action='ignore', category=FutureWarning)"
   ]
  },
  {
   "cell_type": "code",
   "execution_count": 3,
   "metadata": {},
   "outputs": [],
   "source": [
    "import torch\n",
    "import os"
   ]
  },
  {
   "cell_type": "code",
   "execution_count": 4,
   "metadata": {},
   "outputs": [],
   "source": [
    "import sys\n",
    "sys.path.append(os.path.join('..', 'models', 'definitions'))\n",
    "sys.path.append(os.path.join('..', 'src', 'models'))\n",
    "import evaluate_model"
   ]
  },
  {
   "cell_type": "markdown",
   "metadata": {},
   "source": [
    "For the evaluation, we load our ```trained``` GNN models and the ```processed``` dataset."
   ]
  },
  {
   "cell_type": "code",
   "execution_count": 5,
   "metadata": {},
   "outputs": [],
   "source": [
    "# Load the model and data\n",
    "org_data_name = data_name\n",
    "if with_centrality_metrics:\n",
    "    data_name = f\"{data_name}-with-centrality-metrics\"\n",
    "else:\n",
    "    data_name = f\"{data_name}-without-centrality-metrics\"\n",
    "\n",
    "data_folder = os.path.join('..', 'data', 'processed')\n",
    "data_path = os.path.join(data_folder, f\"{data_name}.pt\")\n",
    "gcn_path = os.path.join('..', 'models', 'trained', 'gcn.pt')\n",
    "graphsage_path = os.path.join('..', 'models', 'trained', 'graphsage.pt')\n",
    "\n",
    "data = torch.load(data_path)\n",
    "gcn = torch.load(gcn_path)\n",
    "graphsage = torch.load(graphsage_path)"
   ]
  },
  {
   "cell_type": "markdown",
   "metadata": {},
   "source": [
    "We load one dataset of each different browser from the ```processed``` file:"
   ]
  },
  {
   "cell_type": "code",
   "execution_count": 6,
   "metadata": {},
   "outputs": [
    {
     "name": "stdout",
     "output_type": "stream",
     "text": [
      "Other Browsers:\n",
      "[{'name': 'brave-run-01', 'data': Data(x=[15022, 33], edge_index=[2, 32012], num_nodes=15022, y=[15022], train_mask=[15022], val_mask=[15022], test_mask=[15022])}, {'name': 'firefox-run-01', 'data': Data(x=[25138, 33], edge_index=[2, 124924], num_nodes=25138, y=[25138], train_mask=[25138], val_mask=[25138], test_mask=[25138])}]\n"
     ]
    }
   ],
   "source": [
    "# Define configuration to load other datasets\n",
    "data_parts = data_name.split(\"-\")\n",
    "run = data_parts[2]\n",
    "current_browser = data_parts[0]\n",
    "file_ending = '-with-centrality-metrics.pt' if with_centrality_metrics else '-without-centrality-metrics.pt'\n",
    "files = files = os.listdir(data_folder)\n",
    "\n",
    "# Construct the datasets list\n",
    "browsers = []\n",
    "\n",
    "# Helper function to match the desired pattern\n",
    "def is_other_browser(file, browser, file_ending):\n",
    "    return not file.startswith(browser)  and file.endswith(file_ending)\n",
    "\n",
    "# Filter files based on the user's input and the specified ending\n",
    "for file in files:\n",
    "    if is_other_browser(file, current_browser, file_ending):\n",
    "        # Extract the name part before the ending\n",
    "        name = file.split(\"-with\", 1)[0]\n",
    "        # Load the data using torch.load\n",
    "        data_path = os.path.join(data_folder, file)\n",
    "        data = torch.load(data_path)\n",
    "        # Append the dictionary to the datasets list\n",
    "        browsers.append({'name': name, 'data': data})\n",
    "\n",
    "# Print the resulting datasets\n",
    "print(f\"Other Browsers:\\n{browsers}\")"
   ]
  },
  {
   "cell_type": "markdown",
   "metadata": {},
   "source": [
    "### GCN Model"
   ]
  },
  {
   "cell_type": "markdown",
   "metadata": {},
   "source": [
    "#### Cross Browser Evaluation"
   ]
  },
  {
   "cell_type": "code",
   "execution_count": 7,
   "metadata": {},
   "outputs": [
    {
     "name": "stdout",
     "output_type": "stream",
     "text": [
      "\n",
      "Evaluating GCN_2_Layers on different datasets...\n",
      "Dataset: brave-run-01, Accuracy: 0.8666, Precision: 0.0893, Recall: 0.5916, F1 Score: 0.1551\n",
      "Dataset: firefox-run-01, Accuracy: 0.8077, Precision: 0.6584, Recall: 0.8172, F1 Score: 0.7293\n",
      "Successfully evaluated GCN_2_Layers on different datasets\n"
     ]
    }
   ],
   "source": [
    "cross_browser_gcn = os.path.join('..', 'results', 'gcn', 'cross_browser_evaluation.csv')\n",
    "\n",
    "evaluate_model.datasets_evaluate(browsers, gcn, cross_browser_gcn)"
   ]
  },
  {
   "cell_type": "markdown",
   "metadata": {},
   "source": [
    "### GraphSAGE Model"
   ]
  },
  {
   "cell_type": "markdown",
   "metadata": {},
   "source": [
    "#### Cross Browser Evaluation"
   ]
  },
  {
   "cell_type": "code",
   "execution_count": 8,
   "metadata": {},
   "outputs": [
    {
     "name": "stdout",
     "output_type": "stream",
     "text": [
      "\n",
      "Evaluating GraphSAGE on different datasets...\n",
      "Dataset: brave-run-01, Accuracy: 0.8657, Precision: 0.1083, Recall: 0.7588, F1 Score: 0.1896\n",
      "Dataset: firefox-run-01, Accuracy: 0.8286, Precision: 0.6906, Recall: 0.8319, F1 Score: 0.7547\n",
      "Successfully evaluated GraphSAGE on different datasets\n"
     ]
    }
   ],
   "source": [
    "cross_browser_graphsage = os.path.join('..', 'results', 'variant', 'cross_browser_evaluation.csv')\n",
    "\n",
    "evaluate_model.datasets_evaluate(browsers, graphsage, cross_browser_graphsage)"
   ]
  }
 ],
 "metadata": {
  "kernelspec": {
   "display_name": "thesisenv",
   "language": "python",
   "name": "python3"
  },
  "language_info": {
   "codemirror_mode": {
    "name": "ipython",
    "version": 3
   },
   "file_extension": ".py",
   "mimetype": "text/x-python",
   "name": "python",
   "nbconvert_exporter": "python",
   "pygments_lexer": "ipython3",
   "version": "3.10.14"
  }
 },
 "nbformat": 4,
 "nbformat_minor": 2
}
