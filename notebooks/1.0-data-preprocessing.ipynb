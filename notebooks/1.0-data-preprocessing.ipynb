{
 "cells": [
  {
   "cell_type": "markdown",
   "metadata": {},
   "source": [
    "# 1. Data Preprocessing"
   ]
  },
  {
   "cell_type": "markdown",
   "metadata": {},
   "source": [
    "In this notebook we preprocess the graph data from the gexf files as well as the centrality metrics from the csv files to be used as input to our Graph Neural Networks (GNNs) for the node classification. We will be using the same configuration of the columns and features as the t.ex graph classifier. The preprocessing consists of following steps:\n",
    "1. Loading the graph data with the centrality metrics\n",
    "2. Labeling the data\n",
    "3. Removing attributes according to the configuration\n",
    "4. Feature encoding\n",
    "5. Transforming the data into PyTorch Geometrics (PyG) objects"
   ]
  },
  {
   "cell_type": "markdown",
   "metadata": {},
   "source": [
    "### Dataset Configuration"
   ]
  },
  {
   "cell_type": "code",
   "execution_count": 1,
   "metadata": {},
   "outputs": [],
   "source": [
    "data_name = 'chrome-run-01'"
   ]
  },
  {
   "cell_type": "markdown",
   "metadata": {},
   "source": [
    "### Set Up"
   ]
  },
  {
   "cell_type": "markdown",
   "metadata": {},
   "source": [
    "\n",
    "First, we set ```%load_ext autoreload``` and ```%autoreload 2``` to reload modules instantly when changes had been made in these modules:"
   ]
  },
  {
   "cell_type": "code",
   "execution_count": 2,
   "metadata": {},
   "outputs": [],
   "source": [
    "%load_ext autoreload\n",
    "%autoreload 2\n",
    "\n",
    "import warnings\n",
    "warnings.simplefilter(action='ignore', category=FutureWarning)"
   ]
  },
  {
   "cell_type": "markdown",
   "metadata": {},
   "source": [
    "Now we import the necessary libraries:"
   ]
  },
  {
   "cell_type": "code",
   "execution_count": 3,
   "metadata": {},
   "outputs": [],
   "source": [
    "import networkx as nx\n",
    "import os"
   ]
  },
  {
   "cell_type": "code",
   "execution_count": 4,
   "metadata": {},
   "outputs": [],
   "source": [
    "import sys\n",
    "# Append own directories to sys.path\n",
    "references_path = os.path.join( '..', 'references')\n",
    "visualization_path = os.path.join('..', 'src', 'visualization')\n",
    "data_path = os.path.join('..', 'src', 'data')\n",
    "features_path = os.path.join('..', 'src', 'features')\n",
    "# Append paths to sys.path\n",
    "sys.path.append(references_path)\n",
    "sys.path.append(visualization_path)\n",
    "sys.path.append(data_path)\n",
    "sys.path.append(features_path)\n",
    "# Import own modules\n",
    "import visualize\n",
    "import preprocess\n",
    "import build_features"
   ]
  },
  {
   "cell_type": "markdown",
   "metadata": {},
   "source": [
    "### Step 1: Loading the graph data with the centrality metrics"
   ]
  },
  {
   "cell_type": "markdown",
   "metadata": {},
   "source": [
    "We want to use the data from the ```raw``` data folder. We use the graph data from the gexf file and add the centrality metrics from the csv file to it:"
   ]
  },
  {
   "cell_type": "code",
   "execution_count": 5,
   "metadata": {},
   "outputs": [
    {
     "name": "stdout",
     "output_type": "stream",
     "text": [
      "\n",
      "Loading graph from ..\\data\\raw\\chrome-run-01.gexf...\n",
      "Successfully loaded graph from ..\\data\\raw\\chrome-run-01.gexf\n",
      "Loading centrality metrics from ..\\data\\raw\\chrome-run-01.csv...\n",
      "Successfully loaded centrality metrics from ..\\data\\raw\\chrome-run-01.csv\n",
      "Adding new attributes to the graph...\n",
      "Successfully added new attributes to the graph\n",
      "\n",
      "Graph info: \n",
      "Directed Graph? True | Nodes: 25338 | Edges: 131846 | Node attributes: 59 | Edge attributes: 38\n",
      "Node attributes: xmlhttprequest, image, font, script, stylesheet, ping, sub_frame, other, main_frame, csp_report, object, media, websocket, GET, POST, OPTIONS, HEAD, PUT, DELETE, SEARCH, PATCH, count, tracking, firstPartyDisclosed, cookiesSet, thirdPartyCookie, avgUrlLength, avgReqPerNeighbor, avgQpPerReq, avgQpPerNeighbor, avgRhPerNeighbor, avgRespHPerRq, avgRespHPerNeighbor, avgCookieFieldsPerRq, avgCookieFieldsPerNeighbor, maxSubdomainDepth, avgPathLength, hostUrlLength, frameIdGtZero, label, indegree, outdegree, degree, weighted indegree, weighted outdegree, weighted degree, eccentricity, closnesscentrality, harmonicclosnesscentrality, betweenesscentrality, authority, hub, pageranks, componentnumber, strongcompnum, modularity_class, stat_inf_class, clustering, eigencentrality\n",
      "Edge attributes: xmlhttprequest, image, font, script, stylesheet, ping, sub_frame, other, main_frame, csp_report, object, media, websocket, GET, POST, OPTIONS, HEAD, PUT, DELETE, SEARCH, PATCH, count, tracking, firstPartyDisclosed, cookiesSet, thirdPartyCookie, avgUrlLength, avgQpPerReq, avgQpPerNeighbor, avgRhPerNeighbor, avgRespHPerRq, avgRespHPerNeighbor, avgCookieFieldsPerRq, avgCookieFieldsPerNeighbor, maxSubdomainDepth, avgPathLength, frameIdGtZero, id\n",
      "\n",
      "Node www.google.com: {'xmlhttprequest': '0.0014590347923681257', 'image': '0.7031425364758698', 'font': '0', 'script': '0.1143658810325477', 'stylesheet': '0.027160493827160494', 'ping': '0', 'sub_frame': '0.15364758698092032', 'other': '0.0001122334455667789', 'main_frame': '0.0001122334455667789', 'csp_report': '0', 'object': '0', 'media': '0', 'websocket': 0, 'GET': '1', 'POST': '0', 'OPTIONS': '0', 'HEAD': '0', 'PUT': '0', 'DELETE': 0, 'SEARCH': 0, 'PATCH': '0', 'count': 8910, 'tracking': '0.6855218855218855', 'firstPartyDisclosed': '0.9854096520763187', 'cookiesSet': '0.0035587188612099642', 'thirdPartyCookie': 1, 'avgUrlLength': '216.25723905723905', 'avgReqPerNeighbor': '2.6423487544483986', 'avgQpPerReq': '11.279910213243546', 'avgQpPerNeighbor': '29.805456702253856', 'avgRhPerNeighbor': '34.72123368920522', 'avgRespHPerRq': '13.390796857463524', 'avgRespHPerNeighbor': '35.383155397390276', 'avgCookieFieldsPerRq': '1.2041526374859708', 'avgCookieFieldsPerNeighbor': '3.181791221826809', 'maxSubdomainDepth': 1, 'avgPathLength': '24.800785634118967', 'hostUrlLength': 14, 'frameIdGtZero': '0.2760942760942761', 'label': None, 'indegree': 3372.0, 'outdegree': 18.0, 'degree': 3390.0, 'weighted indegree': 3372.0, 'weighted outdegree': 18.0, 'weighted degree': 3390.0, 'eccentricity': 10.0, 'closnesscentrality': 0.173668, 'harmonicclosnesscentrality': 0.230857, 'betweenesscentrality': 1186164.84135, 'authority': 0.332595, 'hub': 0.013232, 'pageranks': 0.012306, 'componentnumber': 0.0, 'strongcompnum': 418.0, 'modularity_class': 22.0, 'stat_inf_class': 398.0, 'clustering': 0.001626, 'eigencentrality': 0.797867}\n",
      "Node fonts.gstatic.com: {'xmlhttprequest': '0.0035952204716083323', 'image': '0.014698107222163477', 'font': '0.9807549962990377', 'script': '0', 'stylesheet': '0.00042296711430686265', 'ping': '0', 'sub_frame': '0', 'other': '0.0005287088928835783', 'main_frame': '0', 'csp_report': '0', 'object': '0', 'media': '0', 'websocket': 0, 'GET': '1', 'POST': '0', 'OPTIONS': '0', 'HEAD': '0', 'PUT': '0', 'DELETE': 0, 'SEARCH': 0, 'PATCH': '0', 'count': 9457, 'tracking': '0', 'firstPartyDisclosed': '1', 'cookiesSet': '0', 'thirdPartyCookie': 0, 'avgUrlLength': '81.32208945754468', 'avgReqPerNeighbor': '4.242709735307312', 'avgQpPerReq': '0.004123929364491911', 'avgQpPerNeighbor': '0.017496635262449527', 'avgRhPerNeighbor': '55.12292507851054', 'avgRespHPerRq': '18.033202918473087', 'avgRespHPerNeighbor': '76.50964558097802', 'avgCookieFieldsPerRq': '0', 'avgCookieFieldsPerNeighbor': '0', 'maxSubdomainDepth': 1, 'avgPathLength': '56.008988051179024', 'hostUrlLength': 17, 'frameIdGtZero': '0.16009305276514751', 'label': None, 'indegree': 2229.0, 'outdegree': 0.0, 'degree': 2229.0, 'weighted indegree': 2229.0, 'weighted outdegree': 0.0, 'weighted degree': 2229.0, 'eccentricity': 0.0, 'closnesscentrality': 0.0, 'harmonicclosnesscentrality': 0.0, 'betweenesscentrality': 0.0, 'authority': 0.172892, 'hub': 0.0, 'pageranks': 0.010663, 'componentnumber': 0.0, 'strongcompnum': 47.0, 'modularity_class': 9.0, 'stat_inf_class': 263.0, 'clustering': 0.000689, 'eigencentrality': 0.563864}\n",
      "Node www.youtube.com: {'xmlhttprequest': '0.006589785831960461', 'image': '0.0032948929159802307', 'font': '0', 'script': '0.6021416803953872', 'stylesheet': '0', 'ping': '0', 'sub_frame': '0.3805601317957166', 'other': '0', 'main_frame': '0', 'csp_report': '0', 'object': '0.007413509060955519', 'media': '0', 'websocket': 0, 'GET': '1', 'POST': '0', 'OPTIONS': '0', 'HEAD': '0', 'PUT': '0', 'DELETE': 0, 'SEARCH': 0, 'PATCH': '0', 'count': 1214, 'tracking': '0', 'firstPartyDisclosed': '0.9612850082372323', 'cookiesSet': '1.776842105263158', 'thirdPartyCookie': 1, 'avgUrlLength': '70.47116968698518', 'avgReqPerNeighbor': '2.5557894736842104', 'avgQpPerReq': '1.1309719934102143', 'avgQpPerNeighbor': '2.8905263157894736', 'avgRhPerNeighbor': '34.16842105263158', 'avgRespHPerRq': '18.704283360790775', 'avgRespHPerNeighbor': '47.80421052631579', 'avgCookieFieldsPerRq': '1.9876441515650742', 'avgCookieFieldsPerNeighbor': '5.08', 'maxSubdomainDepth': 1, 'avgPathLength': '27.19028006589786', 'hostUrlLength': 15, 'frameIdGtZero': '0.4085667215815486', 'label': None, 'indegree': 475.0, 'outdegree': 43.0, 'degree': 518.0, 'weighted indegree': 475.0, 'weighted outdegree': 43.0, 'weighted degree': 518.0, 'eccentricity': 7.0, 'closnesscentrality': 0.307515, 'harmonicclosnesscentrality': 0.405118, 'betweenesscentrality': 1252734.00232, 'authority': 0.040519, 'hub': 0.006934, 'pageranks': 0.000902, 'componentnumber': 0.0, 'strongcompnum': 418.0, 'modularity_class': 17.0, 'stat_inf_class': 277.0, 'clustering': 0.004037, 'eigencentrality': 0.110864}\n",
      "Node i.ytimg.com: {'xmlhttprequest': '0', 'image': '0.9960861056751468', 'font': '0', 'script': '0', 'stylesheet': '0', 'ping': '0', 'sub_frame': '0', 'other': '0.003913894324853229', 'main_frame': '0', 'csp_report': '0', 'object': '0', 'media': '0', 'websocket': 0, 'GET': '1', 'POST': '0', 'OPTIONS': '0', 'HEAD': '0', 'PUT': '0', 'DELETE': 0, 'SEARCH': 0, 'PATCH': '0', 'count': 511, 'tracking': '0', 'firstPartyDisclosed': '0.9843444227005871', 'cookiesSet': '0', 'thirdPartyCookie': 0, 'avgUrlLength': '50.68688845401174', 'avgReqPerNeighbor': '10.019607843137255', 'avgQpPerReq': '0.0136986301369863', 'avgQpPerNeighbor': '0.13725490196078433', 'avgRhPerNeighbor': '120.31372549019608', 'avgRespHPerRq': '16.44031311154599', 'avgRespHPerNeighbor': '164.72549019607843', 'avgCookieFieldsPerRq': '0', 'avgCookieFieldsPerNeighbor': '0', 'maxSubdomainDepth': 1, 'avgPathLength': '31.534246575342465', 'hostUrlLength': 11, 'frameIdGtZero': '0.5440313111545988', 'label': None, 'indegree': 51.0, 'outdegree': 0.0, 'degree': 51.0, 'weighted indegree': 51.0, 'weighted outdegree': 0.0, 'weighted degree': 51.0, 'eccentricity': 0.0, 'closnesscentrality': 0.0, 'harmonicclosnesscentrality': 0.0, 'betweenesscentrality': 0.0, 'authority': 0.004365, 'hub': 0.0, 'pageranks': 0.000133, 'componentnumber': 0.0, 'strongcompnum': 409.0, 'modularity_class': 3.0, 'stat_inf_class': 297.0, 'clustering': 0.006667, 'eigencentrality': 0.014323}\n",
      "Node twitter.com: {'xmlhttprequest': '0', 'image': '1', 'font': '0', 'script': '0', 'stylesheet': '0', 'ping': '0', 'sub_frame': '0', 'other': '0', 'main_frame': '0', 'csp_report': '0', 'object': '0', 'media': '0', 'websocket': 0, 'GET': '1', 'POST': '0', 'OPTIONS': '0', 'HEAD': '0', 'PUT': '0', 'DELETE': 0, 'SEARCH': 0, 'PATCH': '0', 'count': 1, 'tracking': '0', 'firstPartyDisclosed': '1', 'cookiesSet': '0', 'thirdPartyCookie': 0, 'avgUrlLength': '51', 'avgReqPerNeighbor': '1', 'avgQpPerReq': '1', 'avgQpPerNeighbor': '1', 'avgRhPerNeighbor': '12', 'avgRespHPerRq': '8', 'avgRespHPerNeighbor': '8', 'avgCookieFieldsPerRq': '2', 'avgCookieFieldsPerNeighbor': '2', 'maxSubdomainDepth': 0, 'avgPathLength': '12', 'hostUrlLength': 11, 'frameIdGtZero': '0', 'label': None, 'indegree': 1.0, 'outdegree': 4.0, 'degree': 5.0, 'weighted indegree': 1.0, 'weighted outdegree': 4.0, 'weighted degree': 5.0, 'eccentricity': 13.0, 'closnesscentrality': 0.115637, 'harmonicclosnesscentrality': 0.135297, 'betweenesscentrality': 4.5, 'authority': 3.5e-05, 'hub': 0.002508, 'pageranks': 3.2e-05, 'componentnumber': 0.0, 'strongcompnum': 652.0, 'modularity_class': 14.0, 'stat_inf_class': 269.0, 'clustering': 0.05, 'eigencentrality': 0.000229}\n"
     ]
    }
   ],
   "source": [
    "data_path = os.path.join('..', 'data', 'raw')\n",
    "\n",
    "# Load the graph\n",
    "G = preprocess.load_graph(data_name, data_path)\n",
    "\n",
    "# Show the graph info\n",
    "print('\\nGraph info: ')\n",
    "visualize.graph_info(G)\n",
    "print()\n",
    "visualize.node_info(G, 5)"
   ]
  },
  {
   "cell_type": "markdown",
   "metadata": {},
   "source": [
    "### Step 2: Labeling the data"
   ]
  },
  {
   "cell_type": "markdown",
   "metadata": {},
   "source": [
    "We use the ```tracking``` node attribute (the tracking ratio) to label the nodes in the csv data. If the ratio is greater than or equal to 0.5, the node is labeled a tracker:"
   ]
  },
  {
   "cell_type": "code",
   "execution_count": 6,
   "metadata": {},
   "outputs": [
    {
     "name": "stdout",
     "output_type": "stream",
     "text": [
      "\n",
      "Generating binary labels for the nodes in the graph...\n",
      "Successfully generated the binary labels for the nodes in the graph\n",
      "\n",
      "Example of 50 labels:\n",
      "[1, 0, 0, 0, 0, 0, 1, 0, 0, 0, 0, 0, 0, 0, 0, 0, 0, 0, 0, 1, 0, 0, 0, 0, 0, 0, 1, 0, 0, 1, 0, 0, 0, 0, 0, 0, 0, 0, 0, 0, 0, 0, 0, 1, 0, 0, 0, 0, 1, 0]\n"
     ]
    }
   ],
   "source": [
    "# Iterate over the nodes and set the label\n",
    "labels = preprocess.generate_labels(G)\n",
    "\n",
    "num_labels = 50\n",
    "print(f\"\\nExample of {num_labels} labels:\")\n",
    "print(labels[:num_labels])"
   ]
  },
  {
   "cell_type": "markdown",
   "metadata": {},
   "source": [
    "Before we move on, we want to save this networkx data object into our ```interim``` data folder to be used for visualizations:"
   ]
  },
  {
   "cell_type": "code",
   "execution_count": 7,
   "metadata": {},
   "outputs": [],
   "source": [
    "save_file_path = os.path.join('..','data', 'interim', f\"{data_name}-centrality-graph.gexf\")\n",
    "nx.write_gexf(G, save_file_path)"
   ]
  },
  {
   "cell_type": "markdown",
   "metadata": {},
   "source": [
    "### Step 3: Removing attributes according to the configuration"
   ]
  },
  {
   "cell_type": "markdown",
   "metadata": {},
   "source": [
    "We will be using the t.ex-configuration:"
   ]
  },
  {
   "cell_type": "code",
   "execution_count": 8,
   "metadata": {},
   "outputs": [
    {
     "name": "stdout",
     "output_type": "stream",
     "text": [
      "\n",
      "Importing configuration from ..\\references\\tex_config.py...\n",
      "Successfully imported configuration from ..\\references\\tex_config.py\n",
      "Removing unwanted attributes from the graph with the configuration in ..\\references\\tex_config.py...\n",
      "Successfully removed unwanted attributes from the graph with the configuration in ..\\references\\tex_config.py\n",
      "\n",
      "Graph info: \n",
      "Directed Graph? True | Nodes: 25338 | Edges: 131846 | Node attributes: 49 | Edge attributes: 0\n",
      "Node attributes: xmlhttprequest, image, font, script, stylesheet, sub_frame, other, main_frame, csp_report, object, media, GET, POST, OPTIONS, HEAD, PUT, count, firstPartyDisclosed, cookiesSet, thirdPartyCookie, avgUrlLength, avgReqPerNeighbor, avgQpPerReq, avgQpPerNeighbor, avgRhPerNeighbor, avgRespHPerRq, avgRespHPerNeighbor, avgCookieFieldsPerRq, avgCookieFieldsPerNeighbor, maxSubdomainDepth, avgPathLength, hostUrlLength, frameIdGtZero, indegree, outdegree, degree, eccentricity, closnesscentrality, harmonicclosnesscentrality, betweenesscentrality, authority, hub, pageranks, componentnumber, strongcompnum, modularity_class, stat_inf_class, clustering, eigencentrality\n",
      "Edge attributes: \n",
      "\n",
      "Node www.google.com: {'xmlhttprequest': '0.0014590347923681257', 'image': '0.7031425364758698', 'font': '0', 'script': '0.1143658810325477', 'stylesheet': '0.027160493827160494', 'sub_frame': '0.15364758698092032', 'other': '0.0001122334455667789', 'main_frame': '0.0001122334455667789', 'csp_report': '0', 'object': '0', 'media': '0', 'GET': '1', 'POST': '0', 'OPTIONS': '0', 'HEAD': '0', 'PUT': '0', 'count': 8910, 'firstPartyDisclosed': '0.9854096520763187', 'cookiesSet': '0.0035587188612099642', 'thirdPartyCookie': 1, 'avgUrlLength': '216.25723905723905', 'avgReqPerNeighbor': '2.6423487544483986', 'avgQpPerReq': '11.279910213243546', 'avgQpPerNeighbor': '29.805456702253856', 'avgRhPerNeighbor': '34.72123368920522', 'avgRespHPerRq': '13.390796857463524', 'avgRespHPerNeighbor': '35.383155397390276', 'avgCookieFieldsPerRq': '1.2041526374859708', 'avgCookieFieldsPerNeighbor': '3.181791221826809', 'maxSubdomainDepth': 1, 'avgPathLength': '24.800785634118967', 'hostUrlLength': 14, 'frameIdGtZero': '0.2760942760942761', 'indegree': 3372.0, 'outdegree': 18.0, 'degree': 3390.0, 'eccentricity': 10.0, 'closnesscentrality': 0.173668, 'harmonicclosnesscentrality': 0.230857, 'betweenesscentrality': 1186164.84135, 'authority': 0.332595, 'hub': 0.013232, 'pageranks': 0.012306, 'componentnumber': 0.0, 'strongcompnum': 418.0, 'modularity_class': 22.0, 'stat_inf_class': 398.0, 'clustering': 0.001626, 'eigencentrality': 0.797867}\n",
      "Node fonts.gstatic.com: {'xmlhttprequest': '0.0035952204716083323', 'image': '0.014698107222163477', 'font': '0.9807549962990377', 'script': '0', 'stylesheet': '0.00042296711430686265', 'sub_frame': '0', 'other': '0.0005287088928835783', 'main_frame': '0', 'csp_report': '0', 'object': '0', 'media': '0', 'GET': '1', 'POST': '0', 'OPTIONS': '0', 'HEAD': '0', 'PUT': '0', 'count': 9457, 'firstPartyDisclosed': '1', 'cookiesSet': '0', 'thirdPartyCookie': 0, 'avgUrlLength': '81.32208945754468', 'avgReqPerNeighbor': '4.242709735307312', 'avgQpPerReq': '0.004123929364491911', 'avgQpPerNeighbor': '0.017496635262449527', 'avgRhPerNeighbor': '55.12292507851054', 'avgRespHPerRq': '18.033202918473087', 'avgRespHPerNeighbor': '76.50964558097802', 'avgCookieFieldsPerRq': '0', 'avgCookieFieldsPerNeighbor': '0', 'maxSubdomainDepth': 1, 'avgPathLength': '56.008988051179024', 'hostUrlLength': 17, 'frameIdGtZero': '0.16009305276514751', 'indegree': 2229.0, 'outdegree': 0.0, 'degree': 2229.0, 'eccentricity': 0.0, 'closnesscentrality': 0.0, 'harmonicclosnesscentrality': 0.0, 'betweenesscentrality': 0.0, 'authority': 0.172892, 'hub': 0.0, 'pageranks': 0.010663, 'componentnumber': 0.0, 'strongcompnum': 47.0, 'modularity_class': 9.0, 'stat_inf_class': 263.0, 'clustering': 0.000689, 'eigencentrality': 0.563864}\n",
      "Node www.youtube.com: {'xmlhttprequest': '0.006589785831960461', 'image': '0.0032948929159802307', 'font': '0', 'script': '0.6021416803953872', 'stylesheet': '0', 'sub_frame': '0.3805601317957166', 'other': '0', 'main_frame': '0', 'csp_report': '0', 'object': '0.007413509060955519', 'media': '0', 'GET': '1', 'POST': '0', 'OPTIONS': '0', 'HEAD': '0', 'PUT': '0', 'count': 1214, 'firstPartyDisclosed': '0.9612850082372323', 'cookiesSet': '1.776842105263158', 'thirdPartyCookie': 1, 'avgUrlLength': '70.47116968698518', 'avgReqPerNeighbor': '2.5557894736842104', 'avgQpPerReq': '1.1309719934102143', 'avgQpPerNeighbor': '2.8905263157894736', 'avgRhPerNeighbor': '34.16842105263158', 'avgRespHPerRq': '18.704283360790775', 'avgRespHPerNeighbor': '47.80421052631579', 'avgCookieFieldsPerRq': '1.9876441515650742', 'avgCookieFieldsPerNeighbor': '5.08', 'maxSubdomainDepth': 1, 'avgPathLength': '27.19028006589786', 'hostUrlLength': 15, 'frameIdGtZero': '0.4085667215815486', 'indegree': 475.0, 'outdegree': 43.0, 'degree': 518.0, 'eccentricity': 7.0, 'closnesscentrality': 0.307515, 'harmonicclosnesscentrality': 0.405118, 'betweenesscentrality': 1252734.00232, 'authority': 0.040519, 'hub': 0.006934, 'pageranks': 0.000902, 'componentnumber': 0.0, 'strongcompnum': 418.0, 'modularity_class': 17.0, 'stat_inf_class': 277.0, 'clustering': 0.004037, 'eigencentrality': 0.110864}\n",
      "Node i.ytimg.com: {'xmlhttprequest': '0', 'image': '0.9960861056751468', 'font': '0', 'script': '0', 'stylesheet': '0', 'sub_frame': '0', 'other': '0.003913894324853229', 'main_frame': '0', 'csp_report': '0', 'object': '0', 'media': '0', 'GET': '1', 'POST': '0', 'OPTIONS': '0', 'HEAD': '0', 'PUT': '0', 'count': 511, 'firstPartyDisclosed': '0.9843444227005871', 'cookiesSet': '0', 'thirdPartyCookie': 0, 'avgUrlLength': '50.68688845401174', 'avgReqPerNeighbor': '10.019607843137255', 'avgQpPerReq': '0.0136986301369863', 'avgQpPerNeighbor': '0.13725490196078433', 'avgRhPerNeighbor': '120.31372549019608', 'avgRespHPerRq': '16.44031311154599', 'avgRespHPerNeighbor': '164.72549019607843', 'avgCookieFieldsPerRq': '0', 'avgCookieFieldsPerNeighbor': '0', 'maxSubdomainDepth': 1, 'avgPathLength': '31.534246575342465', 'hostUrlLength': 11, 'frameIdGtZero': '0.5440313111545988', 'indegree': 51.0, 'outdegree': 0.0, 'degree': 51.0, 'eccentricity': 0.0, 'closnesscentrality': 0.0, 'harmonicclosnesscentrality': 0.0, 'betweenesscentrality': 0.0, 'authority': 0.004365, 'hub': 0.0, 'pageranks': 0.000133, 'componentnumber': 0.0, 'strongcompnum': 409.0, 'modularity_class': 3.0, 'stat_inf_class': 297.0, 'clustering': 0.006667, 'eigencentrality': 0.014323}\n",
      "Node twitter.com: {'xmlhttprequest': '0', 'image': '1', 'font': '0', 'script': '0', 'stylesheet': '0', 'sub_frame': '0', 'other': '0', 'main_frame': '0', 'csp_report': '0', 'object': '0', 'media': '0', 'GET': '1', 'POST': '0', 'OPTIONS': '0', 'HEAD': '0', 'PUT': '0', 'count': 1, 'firstPartyDisclosed': '1', 'cookiesSet': '0', 'thirdPartyCookie': 0, 'avgUrlLength': '51', 'avgReqPerNeighbor': '1', 'avgQpPerReq': '1', 'avgQpPerNeighbor': '1', 'avgRhPerNeighbor': '12', 'avgRespHPerRq': '8', 'avgRespHPerNeighbor': '8', 'avgCookieFieldsPerRq': '2', 'avgCookieFieldsPerNeighbor': '2', 'maxSubdomainDepth': 0, 'avgPathLength': '12', 'hostUrlLength': 11, 'frameIdGtZero': '0', 'indegree': 1.0, 'outdegree': 4.0, 'degree': 5.0, 'eccentricity': 13.0, 'closnesscentrality': 0.115637, 'harmonicclosnesscentrality': 0.135297, 'betweenesscentrality': 4.5, 'authority': 3.5e-05, 'hub': 0.002508, 'pageranks': 3.2e-05, 'componentnumber': 0.0, 'strongcompnum': 652.0, 'modularity_class': 14.0, 'stat_inf_class': 269.0, 'clustering': 0.05, 'eigencentrality': 0.000229}\n"
     ]
    }
   ],
   "source": [
    "config_path = os.path.join('..', 'references', 'tex_config.py')\n",
    "\n",
    "# Remove the unwanted node attributes/features\n",
    "G = preprocess.remove_attributes_from_gexf(G, config_path)\n",
    "\n",
    "print('\\nGraph info: ')\n",
    "visualize.graph_info(G)\n",
    "print()\n",
    "visualize.node_info(G, 5)"
   ]
  },
  {
   "cell_type": "markdown",
   "metadata": {},
   "source": [
    "### Step 4: Feature encoding the node attributes"
   ]
  },
  {
   "cell_type": "markdown",
   "metadata": {},
   "source": [
    "We use the same feature encoding as the t.ex classifier: simply converting all node attributes into numerical values as features. We also save two seperate feature tensors, one with the centrality metrics and one without for further analysis:"
   ]
  },
  {
   "cell_type": "code",
   "execution_count": 9,
   "metadata": {},
   "outputs": [
    {
     "name": "stdout",
     "output_type": "stream",
     "text": [
      "\n",
      "Feature encoding the node attributes...\n"
     ]
    },
    {
     "name": "stderr",
     "output_type": "stream",
     "text": [
      "Encoding node attributes: 100%|██████████| 25338/25338 [00:00<00:00, 43214.00it/s]\n"
     ]
    },
    {
     "name": "stdout",
     "output_type": "stream",
     "text": [
      "Successfully feature encoded the node attributes\n",
      "\n",
      "Feature encoding the node attributes...\n"
     ]
    },
    {
     "name": "stderr",
     "output_type": "stream",
     "text": [
      "Encoding node attributes: 100%|██████████| 25338/25338 [00:01<00:00, 21607.42it/s]\n"
     ]
    },
    {
     "name": "stdout",
     "output_type": "stream",
     "text": [
      "Successfully feature encoded the node attributes\n"
     ]
    }
   ],
   "source": [
    "feature_tensor, feature_names = build_features.feature_encoding(G)\n",
    "feature_tensor_excluding_centrality, feature_names_excluding_centrality = build_features.feature_encoding(G, exclude_centrality=True)"
   ]
  },
  {
   "cell_type": "code",
   "execution_count": 10,
   "metadata": {},
   "outputs": [
    {
     "name": "stdout",
     "output_type": "stream",
     "text": [
      "['xmlhttprequest', 'image', 'font', 'script', 'stylesheet', 'sub_frame', 'other', 'main_frame', 'csp_report', 'object', 'media', 'GET', 'POST', 'OPTIONS', 'HEAD', 'PUT', 'count', 'firstPartyDisclosed', 'cookiesSet', 'thirdPartyCookie', 'avgUrlLength', 'avgReqPerNeighbor', 'avgQpPerReq', 'avgQpPerNeighbor', 'avgRhPerNeighbor', 'avgRespHPerRq', 'avgRespHPerNeighbor', 'avgCookieFieldsPerRq', 'avgCookieFieldsPerNeighbor', 'maxSubdomainDepth', 'avgPathLength', 'hostUrlLength', 'frameIdGtZero', 'indegree', 'outdegree', 'degree', 'eccentricity', 'closnesscentrality', 'harmonicclosnesscentrality', 'betweenesscentrality', 'authority', 'hub', 'pageranks', 'componentnumber', 'strongcompnum', 'modularity_class', 'stat_inf_class', 'clustering', 'eigencentrality']\n",
      "['xmlhttprequest', 'image', 'font', 'script', 'stylesheet', 'sub_frame', 'other', 'main_frame', 'csp_report', 'object', 'media', 'GET', 'POST', 'OPTIONS', 'HEAD', 'PUT', 'count', 'firstPartyDisclosed', 'cookiesSet', 'thirdPartyCookie', 'avgUrlLength', 'avgReqPerNeighbor', 'avgQpPerReq', 'avgQpPerNeighbor', 'avgRhPerNeighbor', 'avgRespHPerRq', 'avgRespHPerNeighbor', 'avgCookieFieldsPerRq', 'avgCookieFieldsPerNeighbor', 'maxSubdomainDepth', 'avgPathLength', 'hostUrlLength', 'frameIdGtZero']\n"
     ]
    }
   ],
   "source": [
    "print(feature_names)\n",
    "print(feature_names_excluding_centrality)"
   ]
  },
  {
   "cell_type": "markdown",
   "metadata": {},
   "source": [
    "### Step 5: Transforming the data into a PyTorch Geometrics (PyG) object"
   ]
  },
  {
   "cell_type": "markdown",
   "metadata": {},
   "source": [
    "Finally we can transform the graph data into a PyG data object in order to use it as input to our GNN models. We save the two preprocessed PyG data objects into our ```processed``` data folder. We also assign an inital training, validation and testing mask (80%/10%/10%):"
   ]
  },
  {
   "cell_type": "code",
   "execution_count": 11,
   "metadata": {},
   "outputs": [
    {
     "name": "stdout",
     "output_type": "stream",
     "text": [
      "\n",
      "Converting NetworkX graph to PyG Data object...\n",
      "Successfully converted NetworkX graph to PyG Data object\n",
      "\n",
      "Converting NetworkX graph to PyG Data object...\n",
      "Successfully converted NetworkX graph to PyG Data object\n",
      "\n",
      "Assigning masks to the PyG Data object...\n",
      "Successfully assigned masks to the PyG Data object\n",
      "\n",
      "Assigning masks to the PyG Data object...\n",
      "Successfully assigned masks to the PyG Data object\n",
      "\n",
      "Saving PyG Data object to ..\\data\\processed\\chrome-run-01-without-centrality-metrics.pt...\n",
      "Successfully saved PyG Data object to ..\\data\\processed\\chrome-run-01-without-centrality-metrics.pt: Data(x=[25338, 33], edge_index=[2, 131846], num_nodes=25338, y=[25338], train_mask=[25338], val_mask=[25338], test_mask=[25338])\n",
      "Saving PyG Data metadata to ..\\data\\processed\\metadata-chrome-run-01.json...\n",
      "Successfully saved metadata to ..\\data\\processed\\metadata-chrome-run-01.json\n",
      "\n",
      "Saving PyG Data object to ..\\data\\processed\\chrome-run-01-with-centrality-metrics.pt...\n",
      "Successfully saved PyG Data object to ..\\data\\processed\\chrome-run-01-with-centrality-metrics.pt: Data(x=[25338, 49], edge_index=[2, 131846], num_nodes=25338, y=[25338], train_mask=[25338], val_mask=[25338], test_mask=[25338])\n",
      "Saving PyG Data metadata to ..\\data\\processed\\metadata-chrome-run-01.json...\n",
      "Successfully saved metadata to ..\\data\\processed\\metadata-chrome-run-01.json\n"
     ]
    }
   ],
   "source": [
    "# Create the PyG data objects\n",
    "data, node_names = preprocess.networkx_to_pyg(G, feature_tensor, labels)\n",
    "data_excluding_centrality, _ = preprocess.networkx_to_pyg(G, feature_tensor_excluding_centrality, labels)\n",
    "\n",
    "# Assign the masks\n",
    "data = preprocess.assign_masks(data)\n",
    "data_excluding_centrality = preprocess.assign_masks(data_excluding_centrality)\n",
    "\n",
    "# Save the data objects to the specified file paths\n",
    "save_data = os.path.join('..','data', 'processed', f\"{data_name}-with-centrality-metrics.pt\")\n",
    "save_metadata = os.path.join('..','data', 'processed', f\"metadata-{data_name}.json\")\n",
    "save_data_excluding_centrality = os.path.join('..','data', 'processed', f\"{data_name}-without-centrality-metrics.pt\")\n",
    "\n",
    "preprocess.save_pyg(data_excluding_centrality, feature_names_excluding_centrality, node_names, save_data_excluding_centrality, save_metadata)\n",
    "preprocess.save_pyg(data, feature_names, node_names, save_data, save_metadata)"
   ]
  }
 ],
 "metadata": {
  "kernelspec": {
   "display_name": "thesisenv",
   "language": "python",
   "name": "python3"
  },
  "language_info": {
   "codemirror_mode": {
    "name": "ipython",
    "version": 3
   },
   "file_extension": ".py",
   "mimetype": "text/x-python",
   "name": "python",
   "nbconvert_exporter": "python",
   "pygments_lexer": "ipython3",
   "version": "3.10.14"
  }
 },
 "nbformat": 4,
 "nbformat_minor": 2
}
